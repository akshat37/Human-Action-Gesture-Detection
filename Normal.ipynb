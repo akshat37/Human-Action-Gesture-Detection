{
 "cells": [
  {
   "cell_type": "code",
   "execution_count": 5,
   "id": "1e9a7d76-6013-470e-9337-12304030bcfe",
   "metadata": {},
   "outputs": [
    {
     "name": "stdout",
     "output_type": "stream",
     "text": [
      "✅ Finished! Frames: 1007, Crops: 1500\n",
      "🖼️ Saved to 'images/' and 'images1/'\n",
      "📄 Keypoints CSV saved as: nkeypoint.csv\n"
     ]
    }
   ],
   "source": [
    "import os\n",
    "import cv2\n",
    "from ultralytics import YOLO\n",
    "import pandas as pd\n",
    "\n",
    "# Load YOLOv8 Pose model\n",
    "model = YOLO(\"yolo11s-pose.pt\")\n",
    "\n",
    "# Open video file\n",
    "cap = cv2.VideoCapture('normal.mp4')\n",
    "\n",
    "# Get frame count and fps\n",
    "frames = cap.get(cv2.CAP_PROP_FRAME_COUNT)\n",
    "fps = cap.get(cv2.CAP_PROP_FPS)\n",
    "seconds = round(frames / fps)\n",
    "\n",
    "frame_total = 1000\n",
    "i = 0\n",
    "a = 0\n",
    "all_data = []\n",
    "\n",
    "while cap.isOpened():\n",
    "    cap.set(cv2.CAP_PROP_POS_MSEC, (i * ((seconds / frame_total) * 1000)))\n",
    "    ret, frame = cap.read()\n",
    "\n",
    "    if not ret:\n",
    "        break\n",
    "\n",
    "    # Save full frame to images/\n",
    "    full_image_path = f'images/img_{i}.jpg'\n",
    "    cv2.imwrite(full_image_path, frame)\n",
    "\n",
    "    # Pose detection\n",
    "    results = model(frame, verbose=False)\n",
    "\n",
    "    for r in results:\n",
    "        bound_box = r.boxes.xyxy\n",
    "        conf = r.boxes.conf.tolist()\n",
    "        keypoints = r.keypoints.xyn.tolist()\n",
    "\n",
    "        for index, box in enumerate(bound_box):\n",
    "            if conf[index] > 0.75:\n",
    "                x1, y1, x2, y2 = map(int, box.tolist())\n",
    "                cropped_person = frame[y1:y2, x1:x2]\n",
    "\n",
    "                cropped_image_path = f'images1/person_nn_{a}.jpg'\n",
    "                cv2.imwrite(cropped_image_path, cropped_person)\n",
    "\n",
    "                # Save keypoints\n",
    "                data = {'image_name': f'person_nn_{a}.jpg'}\n",
    "                for j, (x, y) in enumerate(keypoints[index]):\n",
    "                    data[f'x{j}'] = x\n",
    "                    data[f'y{j}'] = y\n",
    "\n",
    "                all_data.append(data)\n",
    "                a += 1\n",
    "\n",
    "    i += 1\n",
    "\n",
    "cap.release()\n",
    "cv2.destroyAllWindows()\n",
    "\n",
    "# Save to CSV\n",
    "df = pd.DataFrame(all_data)\n",
    "csv_path = 'nkeypoint.csv'\n",
    "df.to_csv(csv_path, index=False)\n",
    "\n",
    "print(f\"✅ Finished! Frames: {i}, Crops: {a}\")\n",
    "print(\"🖼️ Saved to 'images/' and 'images1/'\")\n",
    "print(f\"📄 Keypoints CSV saved as: {csv_path}\")"
   ]
  },
  {
   "cell_type": "code",
   "execution_count": null,
   "id": "66d2b083-cd28-4de8-ba58-b9d314eac258",
   "metadata": {},
   "outputs": [],
   "source": []
  }
 ],
 "metadata": {
  "kernelspec": {
   "display_name": "Python (TF 2.8 Env)",
   "language": "python",
   "name": "tf2.8_env"
  },
  "language_info": {
   "codemirror_mode": {
    "name": "ipython",
    "version": 3
   },
   "file_extension": ".py",
   "mimetype": "text/x-python",
   "name": "python",
   "nbconvert_exporter": "python",
   "pygments_lexer": "ipython3",
   "version": "3.8.1"
  }
 },
 "nbformat": 4,
 "nbformat_minor": 5
}
